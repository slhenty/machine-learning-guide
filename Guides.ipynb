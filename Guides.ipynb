{
 "cells": [
  {
   "cell_type": "markdown",
   "metadata": {
    "collapsed": true,
    "pycharm": {
     "name": "#%% md\n"
    }
   },
   "source": [
    "# Guide to Machine Learning Models\n",
    "Steve Henty, 2022\n",
    "\n",
    "Pattern\n",
    "- name (linear regression, logistic regression, classification, k-means, PCA, ...)\n",
    "- architecture (neural network, regression, SVM, ...)\n",
    "- type (supervised, unsupervised, ...)\n",
    "- use (real prediction, category classification, clustering, time-series prediction, ...)\n",
    "  - strength / weakness (aside from typical under- and over-fitting)\n",
    "- characteristics\n",
    "  - objective\n",
    "  - learning algorithm\n",
    "- mechanics\n",
    "  - foreward func / prediction\n",
    "  - loss function\n",
    "  - cost function\n",
    "  - backward func / learning\n",
    "  - parameters\n",
    "  - hyperparamters\n",
    "- evaluation\n",
    "  - bias / variance (aka under- / over-fitting)\n",
    "  - decision boundary\n",
    "  - learning curve\n",
    "  - error rate\n",
    "  - precision / recall\n",
    "- reference / library support\n"
   ]
  },
  {
   "cell_type": "markdown",
   "source": [
    "## Linear Regression\n",
    "**Architecture**\n",
    "Polynomial\n",
    "\n",
    "**Type**\n",
    "Supervised\n",
    "\n",
    "**Use**\n",
    "Real value prediction\n",
    "\n",
    "<u>_Weakness_</u>\n",
    "- inefficient for complex non-linear correlated data\n",
    "\n",
    "**Characteristics**\n",
    "<u>_Objective_</u>\n",
    "Tune a polynomial that takes the input features, and returns a predicted output value\n",
    "\n",
    "<u>_Learning algorithm_</u>\n",
    "Gradient descent\n",
    "\n",
    "**Mechanics**\n",
    "<u>_Forward function / Prediction_</u>\n",
    "> $\\Large z = \\theta^{T}x$\n",
    "\n",
    "<u>_Loss function_</u>\n",
    "\n",
    "<u>_Cost function_</u>\n",
    "\n",
    "<u>_Backward function / Learning_</u>\n",
    "\n",
    "<u>_Parameters_</u>\n",
    "- polynomial co-efficients\n",
    "\n",
    "<u>_Hyper-parameters_</u>\n",
    "- learning rate (alpha)\n",
    "- poloynomial degree / higher-order terms\n"
   ],
   "metadata": {
    "collapsed": false,
    "pycharm": {
     "name": "#%% md\n"
    }
   }
  },
  {
   "cell_type": "code",
   "execution_count": null,
   "outputs": [],
   "source": [],
   "metadata": {
    "collapsed": false,
    "pycharm": {
     "name": "#%%\n"
    }
   }
  }
 ],
 "metadata": {
  "kernelspec": {
   "display_name": "Python 3",
   "language": "python",
   "name": "python3"
  },
  "language_info": {
   "codemirror_mode": {
    "name": "ipython",
    "version": 2
   },
   "file_extension": ".py",
   "mimetype": "text/x-python",
   "name": "python",
   "nbconvert_exporter": "python",
   "pygments_lexer": "ipython2",
   "version": "2.7.6"
  }
 },
 "nbformat": 4,
 "nbformat_minor": 0
}