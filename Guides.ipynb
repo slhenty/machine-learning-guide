{
 "cells": [
  {
   "cell_type": "markdown",
   "metadata": {
    "collapsed": true,
    "pycharm": {
     "name": "#%% md\n"
    }
   },
   "source": [
    "# Guide to Machine Learning Models\n",
    "Steve Henty, 2022\n",
    "\n",
    "Pattern Template\n",
    "- name (linear regression, logistic regression, classification, k-means, PCA, ...)\n",
    "- architecture (neural network, regression, SVM, ...)\n",
    "- type (supervised, unsupervised, ...)\n",
    "- use (real prediction, category classification, clustering, time-series prediction, ...)\n",
    "  - strength / weakness (aside from typical under- and over-fitting)\n",
    "- characteristics\n",
    "  - objective\n",
    "  - learning algorithm\n",
    "- mechanics\n",
    "  - foreward func / prediction\n",
    "  - loss function\n",
    "  - cost function\n",
    "  - backward func / learning\n",
    "  - parameters\n",
    "  - hyperparamters\n",
    "- evaluation\n",
    "  - bias / variance (aka under- / over-fitting)\n",
    "  - decision boundary\n",
    "  - learning curve\n",
    "  - error rate\n",
    "  - precision / recall\n",
    "- reference / library support\n"
   ]
  },
  {
   "cell_type": "markdown",
   "source": [
    "## Linear Regression - univariate\n",
    "**Architecture**\n",
    "Polynomial in one variable (aka 'input feature')\n",
    "\n",
    "**Type**\n",
    "Supervised\n",
    "\n",
    "**Use**\n",
    "Real value prediction\n",
    "\n",
    "<u>_Weakness_</u>\n",
    "- inefficient for complex non-linear correlated data\n",
    "\n",
    "**Characteristics**\n",
    "<u>_Objective_</u>\n",
    "Tune a polynomial that takes the input feature, and returns a predicted output value\n",
    "\n",
    "<u>_Learning algorithm_</u>\n",
    "Gradient descent\n",
    "\n",
    "**Mechanics**\n",
    "<u>_Forward function / Prediction_</u>\n",
    "> $\\large\n",
    "\\begin{align}\n",
    "h_{\\theta}(x) &= \\theta^{T}x \\\\\n",
    "\\hat{y}^{(i)} &= h_{\\theta}(x^{(i)})\n",
    "\\end{align}\n",
    "$\n",
    "\n",
    "where,\n",
    "> $\n",
    "\\begin{align}\n",
    "\\theta &\\text{ is the set of coefficients (parameters) of the polynomial } h_{\\theta}(x) \\\\\n",
    "i &\\text{ is an index into the samples } x \\\\\n",
    "\\hat{y} &\\text{ is the prediction from } h_{\\theta}(x)\n",
    "\\end{align}\n",
    "$\n",
    "\n",
    "<u>_Loss function_</u>\n",
    "> $\\large\n",
    "\\begin{align}\n",
    "L_{(i)}(y, \\hat{y}) &= \\hat{y}^{(i)} - y^{(i)}\n",
    "\\end{align}\n",
    "$\n",
    "\n",
    "<u>_Cost function_</u>\n",
    "> $\\large\n",
    "\\begin{align}\n",
    "J(y, \\hat{y}) &= \\frac{1}{2m}\\sum\\limits_{i=1}^{m} (\\hat{y}^{(i)} - y^{(i)})^2\n",
    "\\end{align}\n",
    "$\n",
    "\n",
    "<u>_Backward function / Learning / Parameter update_</u>\n",
    "> $\\large\n",
    "\\begin{align}\n",
    "\\theta_{j} &:= \\theta_{j} - \\alpha \\frac{1}{m}\\sum\\limits_{i=1}^{m} (\\hat{y}^{(i)} - y^{(i)})x_{j}^{(i)}\n",
    "\\end{align}\n",
    "$\n",
    "\n",
    "where,\n",
    "> $\n",
    "\\begin{align}\n",
    "m &\\text{ is the number of samples,} \\\\\n",
    "j &\\text{ is an index into the polynomial terms} \\\\\n",
    "\\theta &\\text{ is the set of parameters, i.e. polynomial coefficients} \\\\\n",
    "\\alpha &\\text{ is the learning rate}\n",
    "\\end{align}\n",
    "$\n",
    "\n",
    "\n",
    "<u>_Parameters_</u>\n",
    "- polynomial co-efficients, $\\theta$\n",
    "\n",
    "<u>_Hyper-parameters_</u>\n",
    "- learning rate, alpha: $\\alpha$\n",
    "- polynomial degree / higher-order terms: $x_{j}^{p}$\n",
    "- (for multivariate:  $x_{j}^{p}x_{k}^{q}$)\n"
   ],
   "metadata": {
    "collapsed": false,
    "pycharm": {
     "name": "#%% md\n"
    }
   }
  },
  {
   "cell_type": "code",
   "execution_count": null,
   "outputs": [],
   "source": [],
   "metadata": {
    "collapsed": false,
    "pycharm": {
     "name": "#%%\n"
    }
   }
  }
 ],
 "metadata": {
  "kernelspec": {
   "display_name": "Python 3",
   "language": "python",
   "name": "python3"
  },
  "language_info": {
   "codemirror_mode": {
    "name": "ipython",
    "version": 2
   },
   "file_extension": ".py",
   "mimetype": "text/x-python",
   "name": "python",
   "nbconvert_exporter": "python",
   "pygments_lexer": "ipython2",
   "version": "2.7.6"
  }
 },
 "nbformat": 4,
 "nbformat_minor": 0
}