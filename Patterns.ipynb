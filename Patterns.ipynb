{
 "cells": [
  {
   "cell_type": "markdown",
   "metadata": {
    "collapsed": true,
    "deletable": false,
    "editable": false,
    "heading_collapsed": true,
    "pycharm": {
     "name": "#%% md\n"
    }
   },
   "source": [
    "# Pattern Guide to Machine Learning Models\n",
    "Steve Henty, 2022"
   ]
  },
  {
   "cell_type": "markdown",
   "metadata": {
    "collapsed": true,
    "deletable": false,
    "editable": false,
    "heading_collapsed": true,
    "hidden": true,
    "pycharm": {
     "name": "#%% md\n"
    }
   },
   "source": [
    "### Pattern Template"
   ]
  },
  {
   "cell_type": "markdown",
   "metadata": {
    "collapsed": true,
    "deletable": false,
    "editable": false,
    "hidden": true,
    "pycharm": {
     "name": "#%% md\n"
    }
   },
   "source": [
    "**Name** (linear regression, logistic regression, classification, k-means, PCA, ...)\n",
    "- Abbreviation (linreguni, logregmulti, cnn, ...)\n",
    "- Architecture (neural network, regression, SVM, ...)\n",
    "- Type (supervised, unsupervised, ...)\n",
    "- Use (real prediction, category classification, clustering, time-series prediction, ...)\n",
    "    - strength / weakness (aside from typical under- and over-fitting)\n",
    "- Characteristics\n",
    "    - objective\n",
    "    - learning algorithm\n",
    "    - parameters\n",
    "    - hyperparamters\n",
    "- Algorithms\n",
    "    - foreward func / prediction\n",
    "    - loss function\n",
    "    - cost function\n",
    "    - backward func / learning / parameter update\n",
    "- Evaluation\n",
    "    - gradient validation\n",
    "    - bias / variance (aka under- / over-fitting)\n",
    "    - decision boundary\n",
    "    - learning curve\n",
    "    - error rate\n",
    "    - precision / recall\n",
    "- reference / library support"
   ]
  },
  {
   "cell_type": "markdown",
   "metadata": {
    "deletable": false,
    "editable": false
   },
   "source": [
    "# Patterns"
   ]
  },
  {
   "cell_type": "markdown",
   "metadata": {
    "deletable": false,
    "editable": false,
    "pycharm": {
     "name": "#%% md\n"
    }
   },
   "source": [
    "## Regression Patterns"
   ]
  },
  {
   "cell_type": "markdown",
   "metadata": {
    "deletable": false,
    "editable": false,
    "pycharm": {
     "name": "#%% md\n"
    }
   },
   "source": [
    "### Linear Regression - univariate [(details >)](./patterns/linreguni.ipynb)"
   ]
  },
  {
   "cell_type": "markdown",
   "metadata": {
    "deletable": false,
    "editable": false,
    "pycharm": {
     "name": "#%% md\n"
    }
   },
   "source": [
    "#### Abbreviation\n",
    "linreguni\n",
    "\n",
    "#### Architecture\n",
    "Polynomial in one variable (aka 'input feature')\n",
    "\n",
    "#### Type\n",
    "Supervised\n",
    "\n",
    "#### Use\n",
    "Real value prediction\n",
    "\n",
    "<u>_Weakness_</u>\n",
    "- underfits non-linear data (high bias)\n",
    "\n",
    "#### Characteristics\n",
    "<u>_Objective_</u>\n",
    "- Tune a polynomial that takes the input feature, and returns a predicted output value\n",
    "\n",
    "<u>_Learning algorithm_</u>\n",
    "- Gradient descent\n",
    "\n",
    "<u>_Parameters_</u>\n",
    "- polynomial co-efficients, $\\theta$\n",
    "\n",
    "<u>_Hyper-parameters_</u>\n",
    "- learning rate, alpha: $\\alpha$\n",
    "- polynomial degree / higher-order terms: $x_{j}^{p}$\n",
    "- (for multivariate:  $x_{j}^{p}x_{k}^{q}$)"
   ]
  }
 ],
 "metadata": {
  "kernelspec": {
   "display_name": "Python 3 (ipykernel)",
   "language": "python",
   "name": "python3"
  },
  "language_info": {
   "codemirror_mode": {
    "name": "ipython",
    "version": 3
   },
   "file_extension": ".py",
   "mimetype": "text/x-python",
   "name": "python",
   "nbconvert_exporter": "python",
   "pygments_lexer": "ipython3",
   "version": "3.9.7"
  },
  "toc": {
   "base_numbering": 1,
   "nav_menu": {},
   "number_sections": true,
   "sideBar": true,
   "skip_h1_title": false,
   "title_cell": "Table of Contents",
   "title_sidebar": "Contents",
   "toc_cell": false,
   "toc_position": {},
   "toc_section_display": true,
   "toc_window_display": false
  }
 },
 "nbformat": 4,
 "nbformat_minor": 1
}